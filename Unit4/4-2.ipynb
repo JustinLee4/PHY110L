{
 "cells": [
  {
   "cell_type": "code",
   "execution_count": 1,
   "id": "7c568896-eee1-44ee-b47a-2b0cd4e5947a",
   "metadata": {},
   "outputs": [],
   "source": [
    "import numpy as np\n",
    "import matplotlib.pyplot as plt\n",
    "import matplotlib.pylab as pl\n",
    "import scipy as sc\n",
    "import copy\n",
    "import matplotlib.gridspec as gridspec"
   ]
  },
  {
   "cell_type": "code",
   "execution_count": 2,
   "id": "0c01144d-44d7-47c6-9f19-4a3bc33e3be0",
   "metadata": {},
   "outputs": [],
   "source": [
    "def initializesquare(R):\n",
    "    grid = np.zeros((2*R + 1, 2*R+ 1))\n",
    "    #initialize square potential\n",
    "    a = int(4/5 * R)\n",
    "    b = int(6/5 * R)\n",
    "    for x in range(a,b+1):\n",
    "        grid[a][x] = 1\n",
    "        grid[b][x] = 1\n",
    "        grid[x][a] = 1\n",
    "        grid[x][b]= 1\n",
    "    firstgrid = copy.deepcopy(grid)\n",
    "    \n",
    "    mask = grid.astype(bool)\n",
    "    mask[0,:] = True\n",
    "    mask[:,0] = True\n",
    "    mask[2*R,:] = True\n",
    "    mask[:,2*R] = True\n",
    "\n",
    "    return grid, mask"
   ]
  },
  {
   "cell_type": "code",
   "execution_count": 3,
   "id": "9e4b2d1d-7b2a-4943-8ee2-3523d64eb5cc",
   "metadata": {},
   "outputs": [],
   "source": [
    "def relaxgrid(grid, mask):\n",
    "    (i,j) = np.where(~mask)\n",
    "    maxchange = np.inf\n",
    "    N = 0\n",
    "    while(maxchange > .01):\n",
    "        N += 1\n",
    "        maxchange = 0\n",
    "        beforegrid = copy.deepcopy(grid)\n",
    "        grid[i,j] = (grid[i+1,j] + grid[i-1,j] + grid[i,j+1] + grid[i,j-1])/4\n",
    "        np.seterr(divide = 'ignore')\n",
    "        np.seterr(divide='ignore', invalid='ignore')\n",
    "        fracchange = abs(beforegrid - grid) / beforegrid\n",
    "        maxchange = np.nanmax(fracchange)\n",
    "    return grid, N"
   ]
  },
  {
   "cell_type": "code",
   "execution_count": 4,
   "id": "b6c881d8-4a6e-44fe-a728-1969eb4922bc",
   "metadata": {},
   "outputs": [
    {
     "name": "stdout",
     "output_type": "stream",
     "text": [
      "251\n"
     ]
    }
   ],
   "source": [
    "startgrid, mask = initializesquare(25)\n",
    "grid = copy.deepcopy(startgrid)\n",
    "endgrid, N25 = relaxgrid(grid, mask)\n",
    "print(N25)"
   ]
  },
  {
   "cell_type": "code",
   "execution_count": 5,
   "id": "8996a36a-dc81-4d9b-bea5-943c9cf24c80",
   "metadata": {},
   "outputs": [
    {
     "name": "stdout",
     "output_type": "stream",
     "text": [
      "547\n"
     ]
    }
   ],
   "source": [
    "startgrid, mask = initializesquare(50)\n",
    "grid = copy.deepcopy(startgrid)\n",
    "endgrid, N50 = relaxgrid(grid, mask)\n",
    "print(N50)"
   ]
  },
  {
   "cell_type": "code",
   "execution_count": 6,
   "id": "f48df8b2-d74b-4b98-a5df-2c639ec5d52b",
   "metadata": {},
   "outputs": [
    {
     "name": "stdout",
     "output_type": "stream",
     "text": [
      "1145\n"
     ]
    }
   ],
   "source": [
    "startgrid, mask = initializesquare(100)\n",
    "grid = copy.deepcopy(startgrid)\n",
    "endgrid, N100 = relaxgrid(grid, mask)\n",
    "print(N100)"
   ]
  },
  {
   "cell_type": "code",
   "execution_count": 10,
   "id": "19aa4941-eb57-4436-8c2e-07511c045efa",
   "metadata": {},
   "outputs": [
    {
     "name": "stdout",
     "output_type": "stream",
     "text": [
      "2343\n"
     ]
    }
   ],
   "source": [
    "startgrid, mask = initializesquare(200)\n",
    "grid = copy.deepcopy(startgrid)\n",
    "endgrid, N200 = relaxgrid(grid, mask)\n",
    "print(N200)"
   ]
  },
  {
   "cell_type": "markdown",
   "id": "5e45a529-d692-4a1f-838c-8101e78f742f",
   "metadata": {},
   "source": [
    "The total number of computations = pixels * iterations\n",
    "\n",
    "R = 25\n",
    "Computations = 50*50*251\n",
    " = 627500\n",
    "\n",
    "R = 50\n",
    "Computations = 100*100*547\n",
    " = 5470000\n",
    "\n",
    "R = 100\n",
    "Computations = 200*200*1145\n",
    " = 45800000\n",
    "\n",
    "R = 200\n",
    "Computations = 400*400*2343\n",
    " = 374880000"
   ]
  },
  {
   "cell_type": "code",
   "execution_count": 16,
   "id": "bd980fd8-a7a2-4a84-88cf-8bfee54806d5",
   "metadata": {},
   "outputs": [
    {
     "data": {
      "text/plain": [
       "Text(0, 0.5, 'Total Number of Compuations')"
      ]
     },
     "execution_count": 16,
     "metadata": {},
     "output_type": "execute_result"
    },
    {
     "data": {
      "image/png": "[encoded data removed]",
      "text/plain": [
       "<Figure size 640x480 with 1 Axes>"
      ]
     },
     "metadata": {},
     "output_type": "display_data"
    }
   ],
   "source": [
    "plt.plot([25,50,100,200],[627500, 5470000, 45800000, 374880000])\n",
    "plt.xlabel(\"R\")\n",
    "plt.ylabel(\"Total Number of Compuations\")"
   ]
  },
  {
   "cell_type": "markdown",
   "id": "34120f8d-abc4-4c77-8947-a7039071fd77",
   "metadata": {},
   "source": [
    "Total number of computations increases exponentially compared to the grid radius."
   ]
  },
  {
   "cell_type": "code",
   "execution_count": null,
   "id": "1a0172b7-fe8a-4141-b1cf-b61f5e55bfb3",
   "metadata": {},
   "outputs": [],
   "source": []
  }
 ],
 "metadata": {
  "kernelspec": {
   "display_name": "Python 3 (ipykernel)",
   "language": "python",
   "name": "python3"
  },
  "language_info": {
   "codemirror_mode": {
    "name": "ipython",
    "version": 3
   },
   "file_extension": ".py",
   "mimetype": "text/x-python",
   "name": "python",
   "nbconvert_exporter": "python",
   "pygments_lexer": "ipython3",
   "version": "3.11.7"
  }
 },
 "nbformat": 4,
 "nbformat_minor": 5
}
