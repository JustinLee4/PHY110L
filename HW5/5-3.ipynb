{
 "cells": [
  {
   "cell_type": "code",
   "execution_count": 1,
   "id": "94b8857d-0a29-4a1c-b2de-2e04a9d6a044",
   "metadata": {},
   "outputs": [],
   "source": [
    "import numpy as np\n",
    "import matplotlib.pyplot as plt\n",
    "import matplotlib.pylab as pl\n",
    "import scipy as sc\n",
    "import copy\n",
    "import matplotlib.gridspec as gridspec\n",
    "from matplotlib import cm"
   ]
  },
  {
   "cell_type": "code",
   "execution_count": 12,
   "id": "abd16e0c-75cb-470d-8f7b-898bda333fc5",
   "metadata": {},
   "outputs": [],
   "source": [
    "maxN = 2\n",
    "Vinitial = 1\n",
    "\n",
    "coords = np.mgrid[0:101, 0:51]\n",
    "ygrid = coords[0,:,:]\n",
    "xgrid = coords[1,:,:]"
   ]
  },
  {
   "cell_type": "code",
   "execution_count": 13,
   "id": "9d5a2190-b0b0-4ec0-a65b-db2b9e77c562",
   "metadata": {},
   "outputs": [],
   "source": [
    "def V(x, y, maxN, L):\n",
    "    sum = 0\n",
    "    for n in range (1, maxN+1):\n",
    "        if(n % 2 == 1):\n",
    "            an = 4 * Vinitial / (n * np.pi)\n",
    "            sum = sum + an * np.sin(n*np.pi*x / L) * np.exp(-n * np.pi * y / L)\n",
    "    return sum"
   ]
  },
  {
   "cell_type": "code",
   "execution_count": 14,
   "id": "1972ac84-0cf6-481d-9af1-47442be794af",
   "metadata": {},
   "outputs": [],
   "source": [
    "def Vexact(x, y, L):\n",
    "    coeff = 2 * Vinitial / np.pi\n",
    "    num = np.sin(np.pi * x / L)\n",
    "    denom = np.sinh(np.pi * y / L)\n",
    "    return (coeff * np.arctan(num/denom))"
   ]
  },
  {
   "cell_type": "code",
   "execution_count": 15,
   "id": "2906704f-aa5f-4c9f-b291-d32967b0c286",
   "metadata": {},
   "outputs": [],
   "source": [
    "def fracerror(x,y,maxN,L):\n",
    "    est = V(x, y, maxN, L)\n",
    "    exact = Vexact(x,y,L)\n",
    "    return (abs(est-exact)/exact)"
   ]
  },
  {
   "cell_type": "code",
   "execution_count": 16,
   "id": "d76cdeb6-8214-4d07-a942-c07e8ff5ccab",
   "metadata": {},
   "outputs": [
    {
     "data": {
      "image/png": "[encoded data removed]",
      "text/plain": [
       "<Figure size 640x480 with 2 Axes>"
      ]
     },
     "metadata": {},
     "output_type": "display_data"
    }
   ],
   "source": [
    "np.seterr(divide = 'ignore') \n",
    "np.seterr(invalid='ignore')\n",
    "pl.imshow(fracerror(xgrid,ygrid,maxN, 50))\n",
    "pl.colorbar()\n",
    "pl.show()"
   ]
  },
  {
   "cell_type": "markdown",
   "id": "195dd0a1-1c73-4ce7-b107-b1fb35a0bec2",
   "metadata": {},
   "source": [
    "The largest fractional errors occur at y = 0, x = 0, L. There is also some error due to the sinusoidal function near x = L/2 that disappears when the sum is allowed to iterate to larger values of maxN. This is because the numerical method struggles to handle the boundary conditions at x = 0, L, relying on the sinusiodal function to approximate what the analytical function handles exactly."
   ]
  },
  {
   "cell_type": "code",
   "execution_count": null,
   "id": "73279d4b-8226-44ae-bfb6-8bf4d8da0fec",
   "metadata": {},
   "outputs": [],
   "source": []
  }
 ],
 "metadata": {
  "kernelspec": {
   "display_name": "Python 3 (ipykernel)",
   "language": "python",
   "name": "python3"
  },
  "language_info": {
   "codemirror_mode": {
    "name": "ipython",
    "version": 3
   },
   "file_extension": ".py",
   "mimetype": "text/x-python",
   "name": "python",
   "nbconvert_exporter": "python",
   "pygments_lexer": "ipython3",
   "version": "3.11.7"
  }
 },
 "nbformat": 4,
 "nbformat_minor": 5
}
